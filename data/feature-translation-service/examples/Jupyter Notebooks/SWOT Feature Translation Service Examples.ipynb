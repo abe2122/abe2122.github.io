{
 "cells": [
  {
   "cell_type": "markdown",
   "metadata": {},
   "source": [
    "# SWOT Feature Translation Service (FTS) Examples\n",
    "\n",
    "This is the associated Jupyter Notebook containing four examples related to querying the SWOT Feature Translation Service and using its results to query NASA's Common Metadata Repository (CMR)."
   ]
  },
  {
   "cell_type": "code",
   "execution_count": null,
   "metadata": {},
   "outputs": [],
   "source": [
    "%%capture\n",
    "\n",
    "import sys\n",
    "!{sys.executable} -m pip install bs4 requests"
   ]
  },
  {
   "cell_type": "code",
   "execution_count": null,
   "metadata": {},
   "outputs": [],
   "source": [
    "from bs4 import BeautifulSoup\n",
    "import requests\n",
    "import json"
   ]
  },
  {
   "cell_type": "markdown",
   "metadata": {},
   "source": [
    "## Exact SWOT Feature ID Matches in the SWOT Feature Translation Service\n",
    "\n",
    "Below you can input some given SWOT Feature ID and query the Feature Translation Service based on it."
   ]
  },
  {
   "cell_type": "code",
   "execution_count": null,
   "metadata": {},
   "outputs": [],
   "source": [
    "###################\n",
    "\n",
    "# Mimicing a user querying exact matches with SWOT Feature ID \"7541140001000000\"\n",
    "\n",
    "SWOT_FEATURE_ID = \"7541140001000000\"\n",
    "EXACT = True\n",
    "\n",
    "###################\n",
    "\n",
    "# Query Feature Translation Service and parse JSON response\n",
    "r = requests.get(\"https://g6zl7z2x7j.execute-api.us-west-2.amazonaws.com/prod/swot/{}?exact={}\".format(SWOT_FEATURE_ID, EXACT))\n",
    "\n",
    "# Load response from FTS\n",
    "response = json.loads(r.text)\n",
    "\n",
    "# Print all elements in HUC database that exactly match SWOT Feature ID \"75411400010000\"\n",
    "print(json.dumps(response, indent = 4))"
   ]
  },
  {
   "cell_type": "markdown",
   "metadata": {},
   "source": [
    "## Partial SWOT Feature ID Matches in the SWOT Feature Translation Service\n",
    "\n",
    "In a similar fashion to the HUC FTS portion, you can query the service for partial matches to the SWOT Feature ID. This will return a string formatted to directly be used in a CMR query."
   ]
  },
  {
   "cell_type": "code",
   "execution_count": null,
   "metadata": {},
   "outputs": [],
   "source": [
    "###################\n",
    "\n",
    "# Mimicing a user querying partial matches with SWOT Feature ID \"75411400010000\"\n",
    "\n",
    "SWOT_FEATURE_ID = \"75411400010000\"\n",
    "EXACT = False\n",
    "\n",
    "###################\n",
    "\n",
    "# Query Feature Translation Service and parse JSON response\n",
    "r = requests.get(\"https://g6zl7z2x7j.execute-api.us-west-2.amazonaws.com/prod/swot/{}?exact={}\".format(SWOT_FEATURE_ID, EXACT))\n",
    "\n",
    "# Load response from FTS\n",
    "response = json.loads(r.text)\n",
    "\n",
    "# Print all elements in HUC database that exactly match HUC \"180500030105\"\n",
    "print(json.dumps(response, indent = 4))"
   ]
  },
  {
   "cell_type": "markdown",
   "metadata": {},
   "source": [
    "## Query CMR by String\n",
    "\n",
    "Below is an example of how the output of the SWOT Feature Translation Service portion can directly be used to query CMR. I'm using the given SWOT Feature ID to search for granules available through the Sentinel-1 mission. Currently this is through a string, however this isn't technically correct as we're _AND'ing_ spatial features together rather than _OR'ing_ them. \n",
    "\n",
    "As of now, CMR does not support POSTing a JSON body of spatial parameters, however this is an area actively being looked into."
   ]
  },
  {
   "cell_type": "code",
   "execution_count": null,
   "metadata": {},
   "outputs": [],
   "source": [
    "###################\n",
    "\n",
    "# Mimicing a user querying exact matches with SWOT Feature ID \"75411400010000\"\n",
    "\n",
    "COLLECTION_ID = \"C1522341104-NSIDC_ECS\" # SMAP/Sentinel-1 L2 Radiometer/Radar 30-Second Scene 3 km EASE-Grid Soil Moisture V002\n",
    "SWOT_FEATURE_ID = \"75411400010000\"\n",
    "EXACT = False\n",
    "\n",
    "###################\n",
    "\n",
    "# Query Feature Translation Service and parse JSON response\n",
    "r = requests.get(\"https://g6zl7z2x7j.execute-api.us-west-2.amazonaws.com/prod/swot/{}?exact={}\".format(SWOT_FEATURE_ID, EXACT))\n",
    "\n",
    "# Load response from FTS\n",
    "response = json.loads(r.text)\n",
    "\n",
    "geo_list = response['results'][SWOT_FEATURE_ID]\n",
    "#print(geo_list)\n",
    "\n",
    "# Query CMR\n",
    "# --------- #\n",
    "\n",
    "#cmr_response = requests.get(\"https://cmr.earthdata.nasa.gov/search/granules.json?{}&echo_collection_id=C1522341104-NSIDC_ECS&pretty=True\".format(polygon))\n",
    "cmr_response = requests.get(\"https://cmr.earthdata.nasa.gov/search/granules?{}&echo_collection_id={}&pretty=True\".format(geo_list, COLLECTION_ID))\n",
    "\n",
    "# --------- #\n",
    "\n",
    "# Make it look nice\n",
    "soup = BeautifulSoup(cmr_response.text, features = 'lxml')\n",
    "print(soup.prettify())"
   ]
  },
  {
   "cell_type": "markdown",
   "metadata": {},
   "source": [
    "## Query CMR via JSON\n",
    "\n",
    "As mentioned in the previous example, this is not currently possible, however I've added direct support for when it is. Once available, a proverbial lever can be flicked to allow querying via JSON. The code below is something that can be used once possible."
   ]
  },
  {
   "cell_type": "code",
   "execution_count": null,
   "metadata": {},
   "outputs": [],
   "source": [
    "###################\n",
    "\n",
    "# Mimicing a user querying exact matches with SWOT Feature ID \"75411400010000\"\n",
    "\n",
    "COLLECTION_ID = \"C1522341104-NSIDC_ECS\" # SMAP/Sentinel-1 L2 Radiometer/Radar 30-Second Scene 3 km EASE-Grid Soil Moisture V002\n",
    "SWOT_FEATURE_ID = \"75411400010000\"\n",
    "EXACT = False\n",
    "\n",
    "###################\n",
    "\n",
    "# Query Feature Translation Service and parse JSON response\n",
    "r = requests.get(\"https://g6zl7z2x7j.execute-api.us-west-2.amazonaws.com/prod/swot/{}?exact={}\".format(SWOT_FEATURE_ID, EXACT))\n",
    "\n",
    "# Load response from FTS\n",
    "response = json.loads(r.text)\n",
    "json_response = response['results'][SWOT_FEATURE_ID]\n",
    "#print(json_response)\n",
    "\n",
    "# Query CMR\n",
    "# --------- #\n",
    "\n",
    "#cmr_response = requests.post(\"https://cmr.earthdata.nasa.gov/search/granules?echo_collection_id={}&pretty=True\".format(COLLECTION_ID), data = json_response)\n",
    "cmr_response = requests.post(\"https://cmr.earthdata.nasa.gov/search/granules?echo_collection_id={}&pretty=True\".format(COLLECTION_ID), data = json_response)\n",
    "\n",
    "# --------- #\n",
    "\n",
    "# Make it look nice\n",
    "soup = BeautifulSoup(cmr_response.text, features = 'lxml')\n",
    "print(soup.prettify())"
   ]
  },
  {
   "cell_type": "code",
   "execution_count": null,
   "metadata": {},
   "outputs": [],
   "source": []
  }
 ],
 "metadata": {
  "kernelspec": {
   "display_name": "Python 3",
   "language": "python",
   "name": "python3"
  },
  "language_info": {
   "codemirror_mode": {
    "name": "ipython",
    "version": 3
   },
   "file_extension": ".py",
   "mimetype": "text/x-python",
   "name": "python",
   "nbconvert_exporter": "python",
   "pygments_lexer": "ipython3",
   "version": "3.6.7"
  }
 },
 "nbformat": 4,
 "nbformat_minor": 2
}
